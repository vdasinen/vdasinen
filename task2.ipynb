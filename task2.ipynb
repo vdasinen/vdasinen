{
  "nbformat": 4,
  "nbformat_minor": 0,
  "metadata": {
    "colab": {
      "provenance": [],
      "authorship_tag": "ABX9TyPrj4xudbRwlXLfaYZh3XDX",
      "include_colab_link": true
    },
    "kernelspec": {
      "name": "python3",
      "display_name": "Python 3"
    },
    "language_info": {
      "name": "python"
    }
  },
  "cells": [
    {
      "cell_type": "markdown",
      "metadata": {
        "id": "view-in-github",
        "colab_type": "text"
      },
      "source": [
        "<a href=\"https://colab.research.google.com/github/vdasinen/vdasinen/blob/main/task2.ipynb\" target=\"_parent\"><img src=\"https://colab.research.google.com/assets/colab-badge.svg\" alt=\"Open In Colab\"/></a>"
      ]
    },
    {
      "cell_type": "code",
      "execution_count": null,
      "metadata": {
        "id": "WNlYjEArX0VS"
      },
      "outputs": [],
      "source": [
        "def Temperature_modeling(a,b,c,time):\n",
        "  temperature = a*time**2 + b*time +c\n",
        "  return temperature\n"
      ]
    },
    {
      "cell_type": "code",
      "source": [
        "a,b,c=0.1,2,10\n",
        "time = 5"
      ],
      "metadata": {
        "id": "ZZ9ZGBOyYe9l"
      },
      "execution_count": null,
      "outputs": []
    },
    {
      "cell_type": "code",
      "source": [
        "print(\"Hard-coded variables for weather modeling\")\n",
        "print(\"Temperature for hardcoded coefficients at time\",time,\"hours:\",Temperature_modeling(a,b,c,time)) # Call the function with the correct name (Temperature_modeling)"
      ],
      "metadata": {
        "colab": {
          "base_uri": "https://localhost:8080/"
        },
        "id": "a0N0e8nYYrBb",
        "outputId": "5ded6c83-bad7-4aea-cf1c-906c1847908c"
      },
      "execution_count": null,
      "outputs": [
        {
          "output_type": "stream",
          "name": "stdout",
          "text": [
            "Hard-coded variables for weather modeling\n",
            "Temperature for hardcoded coefficients at time 5 hours: 22.5\n"
          ]
        }
      ]
    },
    {
      "cell_type": "code",
      "source": [
        "a=float(input(\"enter coeffient a:\"))\n",
        "b=float(input(\"enter coeffient b:\"))\n",
        "c=float(input(\"enter coeffient c:\"))\n"
      ],
      "metadata": {
        "colab": {
          "base_uri": "https://localhost:8080/"
        },
        "id": "BpN8SVawZuJv",
        "outputId": "b744d0f6-9930-4c35-a95f-1ca50ec37859"
      },
      "execution_count": null,
      "outputs": [
        {
          "name": "stdout",
          "output_type": "stream",
          "text": [
            "enter coeffient a:0.1\n",
            "enter coeffient b:3\n",
            "enter coeffient c:10\n"
          ]
        }
      ]
    },
    {
      "cell_type": "code",
      "source": [
        "time=float(input(\"enter time:\"))\n"
      ],
      "metadata": {
        "colab": {
          "base_uri": "https://localhost:8080/"
        },
        "id": "0Ahd3eXOZpJ-",
        "outputId": "95a5886e-fe74-4b19-a469-3aa9d88849a1"
      },
      "execution_count": null,
      "outputs": [
        {
          "name": "stdout",
          "output_type": "stream",
          "text": [
            "enter time:4\n"
          ]
        }
      ]
    },
    {
      "cell_type": "code",
      "source": [
        "print(\"hard-coded variables for weather modeling\")\n",
        "print(\"temperature for coefficients at time\",time,\"hours:\",Temperature_modeling(a,b,c,time))"
      ],
      "metadata": {
        "colab": {
          "base_uri": "https://localhost:8080/"
        },
        "id": "gOc6a23daTv7",
        "outputId": "491004e7-73d4-4ab5-b0fe-98f7fbd7095f"
      },
      "execution_count": null,
      "outputs": [
        {
          "output_type": "stream",
          "name": "stdout",
          "text": [
            "hard-coded variables for weather modeling\n",
            "temperature for coefficients at time 4.0 hours: 23.6\n"
          ]
        }
      ]
    },
    {
      "cell_type": "code",
      "source": [
        "def read_from_file(filename):\n",
        "  with open(filename, 'r') as file:\n",
        "    lines = file.readlines()\n",
        "  coefficients = [tuple(map(float, line.strip().split(','))) for line in lines]\n",
        "  return coefficients"
      ],
      "metadata": {
        "id": "8bv1KFtmaopy"
      },
      "execution_count": null,
      "outputs": []
    },
    {
      "cell_type": "code",
      "source": [
        "coefficients = read_from_file('/content/untitled1.txt')\n",
        "a,b,c,time = coefficients[0]\n",
        "temperature = Temperature_modeling(a,b,c,time)\n",
        "print(\"read from file variables for weather modeling\")\n",
        "print(\"temperature for coefficients at time\",time,\"hours:\",temperature)"
      ],
      "metadata": {
        "colab": {
          "base_uri": "https://localhost:8080/"
        },
        "id": "cZ82ZEEcbPAq",
        "outputId": "2e19f2e3-2a32-4777-d069-b2c17278ff59"
      },
      "execution_count": null,
      "outputs": [
        {
          "output_type": "stream",
          "name": "stdout",
          "text": [
            "read from file variables for weather modeling\n",
            "temperature for coefficients at time 4.0 hours: 7.6\n"
          ]
        }
      ]
    },
    {
      "cell_type": "code",
      "source": [
        "for idx, (a,b,c,time) in enumerate(coefficients):\n",
        "    temperature = Temperature_modeling(a,b,c,time)\n",
        "    print(\"temperature for coefficients at time\",time,\"hours:\",temperature)"
      ],
      "metadata": {
        "colab": {
          "base_uri": "https://localhost:8080/"
        },
        "id": "jYcG1rvzb3y7",
        "outputId": "5d381a54-017f-4b2f-9f66-831a3b64a117"
      },
      "execution_count": null,
      "outputs": [
        {
          "output_type": "stream",
          "name": "stdout",
          "text": [
            "temperature for coefficients at time 4.0 hours: 7.6\n",
            "temperature for coefficients at time 9.0 hours: 38.2\n"
          ]
        }
      ]
    },
    {
      "cell_type": "code",
      "source": [],
      "metadata": {
        "id": "QxssmI0fdF11"
      },
      "execution_count": null,
      "outputs": []
    }
  ]
}